{
 "cells": [
  {
   "cell_type": "code",
   "execution_count": 10,
   "id": "46c0c717",
   "metadata": {},
   "outputs": [],
   "source": [
    "#fib\n",
    "\n",
    "def fib(n,d):\n",
    "    \n",
    "    if n in d:\n",
    "        return d[n]\n",
    "    \n",
    "    else :\n",
    "        d[n]=fib(n-1,d)+fib(n-2,d)\n",
    "        return d[n]\n",
    "    \n",
    "    \n",
    "    \n",
    "    \n",
    "        \n",
    "        \n",
    "        \n"
   ]
  },
  {
   "cell_type": "code",
   "execution_count": 21,
   "id": "c81cd991",
   "metadata": {},
   "outputs": [
    {
     "data": {
      "text/plain": [
       "70330367711422815821835254877183549770181269836358732742604905087154537118196933579742249494562611733487750449241765991088186363265450223647106012053374121273867339111198139373125598767690091902245245323403501"
      ]
     },
     "execution_count": 21,
     "metadata": {},
     "output_type": "execute_result"
    }
   ],
   "source": [
    "d={0:1,1:1}\n",
    "fib(1000,d)"
   ]
  },
  {
   "cell_type": "code",
   "execution_count": null,
   "id": "b67e6a26",
   "metadata": {},
   "outputs": [],
   "source": []
  }
 ],
 "metadata": {
  "kernelspec": {
   "display_name": "Python 3 (ipykernel)",
   "language": "python",
   "name": "python3"
  },
  "language_info": {
   "codemirror_mode": {
    "name": "ipython",
    "version": 3
   },
   "file_extension": ".py",
   "mimetype": "text/x-python",
   "name": "python",
   "nbconvert_exporter": "python",
   "pygments_lexer": "ipython3",
   "version": "3.11.4"
  }
 },
 "nbformat": 4,
 "nbformat_minor": 5
}
