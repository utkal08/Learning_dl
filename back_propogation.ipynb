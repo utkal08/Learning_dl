{
 "cells": [
  {
   "cell_type": "code",
   "execution_count": 1,
   "id": "0ab63f41",
   "metadata": {},
   "outputs": [],
   "source": [
    "import numpy as np\n",
    "import pandas as pd"
   ]
  },
  {
   "cell_type": "code",
   "execution_count": 4,
   "id": "08a45562",
   "metadata": {},
   "outputs": [],
   "source": [
    "df=pd.DataFrame([[8,8,4],[7,9,5],[6,10,6],[5,12,7]],columns=['cgpa','profile_score','lpa'])"
   ]
  },
  {
   "cell_type": "code",
   "execution_count": 5,
   "id": "01fb36f4",
   "metadata": {},
   "outputs": [
    {
     "data": {
      "text/html": [
       "<div>\n",
       "<style scoped>\n",
       "    .dataframe tbody tr th:only-of-type {\n",
       "        vertical-align: middle;\n",
       "    }\n",
       "\n",
       "    .dataframe tbody tr th {\n",
       "        vertical-align: top;\n",
       "    }\n",
       "\n",
       "    .dataframe thead th {\n",
       "        text-align: right;\n",
       "    }\n",
       "</style>\n",
       "<table border=\"1\" class=\"dataframe\">\n",
       "  <thead>\n",
       "    <tr style=\"text-align: right;\">\n",
       "      <th></th>\n",
       "      <th>cgpa</th>\n",
       "      <th>profile_score</th>\n",
       "      <th>lpa</th>\n",
       "    </tr>\n",
       "  </thead>\n",
       "  <tbody>\n",
       "    <tr>\n",
       "      <th>0</th>\n",
       "      <td>8</td>\n",
       "      <td>8</td>\n",
       "      <td>4</td>\n",
       "    </tr>\n",
       "    <tr>\n",
       "      <th>1</th>\n",
       "      <td>7</td>\n",
       "      <td>9</td>\n",
       "      <td>5</td>\n",
       "    </tr>\n",
       "    <tr>\n",
       "      <th>2</th>\n",
       "      <td>6</td>\n",
       "      <td>10</td>\n",
       "      <td>6</td>\n",
       "    </tr>\n",
       "    <tr>\n",
       "      <th>3</th>\n",
       "      <td>5</td>\n",
       "      <td>12</td>\n",
       "      <td>7</td>\n",
       "    </tr>\n",
       "  </tbody>\n",
       "</table>\n",
       "</div>"
      ],
      "text/plain": [
       "   cgpa  profile_score  lpa\n",
       "0     8              8    4\n",
       "1     7              9    5\n",
       "2     6             10    6\n",
       "3     5             12    7"
      ]
     },
     "execution_count": 5,
     "metadata": {},
     "output_type": "execute_result"
    }
   ],
   "source": [
    "df"
   ]
  },
  {
   "cell_type": "code",
   "execution_count": 6,
   "id": "faae48c3",
   "metadata": {},
   "outputs": [],
   "source": [
    "import tensorflow\n",
    "from tensorflow import keras\n",
    "from keras import Sequential\n",
    "from keras.layers import Dense"
   ]
  },
  {
   "cell_type": "code",
   "execution_count": 7,
   "id": "9312b4ad",
   "metadata": {},
   "outputs": [],
   "source": [
    "model= Sequential()\n",
    "\n",
    "model.add(Dense(2,activation='linear',input_dim=2))\n",
    "model.add(Dense(1,activation='linear'))\n",
    "\n",
    "    "
   ]
  },
  {
   "cell_type": "code",
   "execution_count": 8,
   "id": "c90e94da",
   "metadata": {},
   "outputs": [
    {
     "name": "stdout",
     "output_type": "stream",
     "text": [
      "Model: \"sequential\"\n",
      "_________________________________________________________________\n",
      " Layer (type)                Output Shape              Param #   \n",
      "=================================================================\n",
      " dense (Dense)               (None, 2)                 6         \n",
      "                                                                 \n",
      " dense_1 (Dense)             (None, 1)                 3         \n",
      "                                                                 \n",
      "=================================================================\n",
      "Total params: 9 (36.00 Byte)\n",
      "Trainable params: 9 (36.00 Byte)\n",
      "Non-trainable params: 0 (0.00 Byte)\n",
      "_________________________________________________________________\n"
     ]
    }
   ],
   "source": [
    "model.summary()"
   ]
  },
  {
   "cell_type": "code",
   "execution_count": null,
   "id": "360d5b1e",
   "metadata": {},
   "outputs": [],
   "source": [
    "new"
   ]
  },
  {
   "cell_type": "code",
   "execution_count": null,
   "id": "24ddf627",
   "metadata": {},
   "outputs": [],
   "source": []
  },
  {
   "cell_type": "code",
   "execution_count": 9,
   "id": "9db13c3a",
   "metadata": {},
   "outputs": [
    {
     "data": {
      "text/plain": [
       "[array([[-0.40431613, -1.211189  ],\n",
       "        [-0.38382196,  0.8067266 ]], dtype=float32),\n",
       " array([0., 0.], dtype=float32),\n",
       " array([[ 0.5813911],\n",
       "        [-1.1454263]], dtype=float32),\n",
       " array([0.], dtype=float32)]"
      ]
     },
     "execution_count": 9,
     "metadata": {},
     "output_type": "execute_result"
    }
   ],
   "source": [
    "model.get_weights()"
   ]
  },
  {
   "cell_type": "code",
   "execution_count": null,
   "id": "0a99a76e",
   "metadata": {},
   "outputs": [],
   "source": []
  },
  {
   "cell_type": "code",
   "execution_count": 11,
   "id": "b2c05ffb",
   "metadata": {},
   "outputs": [],
   "source": [
    "optimizer=keras.optimizers.Adam(learning_rate=0.001)\n",
    "model.compile(loss='mean_squared_error',optimizer=optimizer)"
   ]
  },
  {
   "cell_type": "code",
   "execution_count": 12,
   "id": "9e73e06a",
   "metadata": {},
   "outputs": [
    {
     "name": "stdout",
     "output_type": "stream",
     "text": [
      "Epoch 1/78\n",
      "4/4 [==============================] - 0s 4ms/step - loss: 100.5586\n",
      "Epoch 2/78\n",
      "4/4 [==============================] - 0s 1ms/step - loss: 98.0042\n",
      "Epoch 3/78\n",
      "4/4 [==============================] - 0s 2ms/step - loss: 95.2091\n",
      "Epoch 4/78\n",
      "4/4 [==============================] - 0s 2ms/step - loss: 93.0558\n",
      "Epoch 5/78\n",
      "4/4 [==============================] - 0s 1ms/step - loss: 90.8635\n",
      "Epoch 6/78\n",
      "4/4 [==============================] - 0s 1ms/step - loss: 88.5844\n",
      "Epoch 7/78\n",
      "4/4 [==============================] - 0s 2ms/step - loss: 86.3958\n",
      "Epoch 8/78\n",
      "4/4 [==============================] - 0s 2ms/step - loss: 84.1189\n",
      "Epoch 9/78\n",
      "4/4 [==============================] - 0s 1ms/step - loss: 82.2818\n",
      "Epoch 10/78\n",
      "4/4 [==============================] - 0s 2ms/step - loss: 80.3121\n",
      "Epoch 11/78\n",
      "4/4 [==============================] - 0s 1ms/step - loss: 78.0210\n",
      "Epoch 12/78\n",
      "4/4 [==============================] - 0s 2ms/step - loss: 76.4098\n",
      "Epoch 13/78\n",
      "4/4 [==============================] - 0s 2ms/step - loss: 74.5423\n",
      "Epoch 14/78\n",
      "4/4 [==============================] - 0s 2ms/step - loss: 72.8811\n",
      "Epoch 15/78\n",
      "4/4 [==============================] - 0s 1ms/step - loss: 71.1956\n",
      "Epoch 16/78\n",
      "4/4 [==============================] - 0s 3ms/step - loss: 69.1012\n",
      "Epoch 17/78\n",
      "4/4 [==============================] - 0s 1ms/step - loss: 67.7007\n",
      "Epoch 18/78\n",
      "4/4 [==============================] - 0s 2ms/step - loss: 66.2316\n",
      "Epoch 19/78\n",
      "4/4 [==============================] - 0s 1ms/step - loss: 64.6725\n",
      "Epoch 20/78\n",
      "4/4 [==============================] - 0s 2ms/step - loss: 63.1858\n",
      "Epoch 21/78\n",
      "4/4 [==============================] - 0s 1ms/step - loss: 61.8154\n",
      "Epoch 22/78\n",
      "4/4 [==============================] - 0s 2ms/step - loss: 60.2512\n",
      "Epoch 23/78\n",
      "4/4 [==============================] - 0s 1ms/step - loss: 58.6697\n",
      "Epoch 24/78\n",
      "4/4 [==============================] - 0s 2ms/step - loss: 57.7462\n",
      "Epoch 25/78\n",
      "4/4 [==============================] - 0s 1ms/step - loss: 56.1313\n",
      "Epoch 26/78\n",
      "4/4 [==============================] - 0s 2ms/step - loss: 55.0616\n",
      "Epoch 27/78\n",
      "4/4 [==============================] - 0s 1ms/step - loss: 53.7366\n",
      "Epoch 28/78\n",
      "4/4 [==============================] - 0s 2ms/step - loss: 52.6602\n",
      "Epoch 29/78\n",
      "4/4 [==============================] - 0s 1ms/step - loss: 51.7813\n",
      "Epoch 30/78\n",
      "4/4 [==============================] - 0s 2ms/step - loss: 50.2915\n",
      "Epoch 31/78\n",
      "4/4 [==============================] - 0s 2ms/step - loss: 49.3856\n",
      "Epoch 32/78\n",
      "4/4 [==============================] - 0s 2ms/step - loss: 48.1907\n",
      "Epoch 33/78\n",
      "4/4 [==============================] - 0s 2ms/step - loss: 47.2659\n",
      "Epoch 34/78\n",
      "4/4 [==============================] - 0s 2ms/step - loss: 46.2358\n",
      "Epoch 35/78\n",
      "4/4 [==============================] - 0s 2ms/step - loss: 45.4388\n",
      "Epoch 36/78\n",
      "4/4 [==============================] - 0s 2ms/step - loss: 44.6162\n",
      "Epoch 37/78\n",
      "4/4 [==============================] - 0s 3ms/step - loss: 43.5866\n",
      "Epoch 38/78\n",
      "4/4 [==============================] - 0s 3ms/step - loss: 42.6152\n",
      "Epoch 39/78\n",
      "4/4 [==============================] - 0s 2ms/step - loss: 41.6679\n",
      "Epoch 40/78\n",
      "4/4 [==============================] - 0s 3ms/step - loss: 40.9236\n",
      "Epoch 41/78\n",
      "4/4 [==============================] - 0s 2ms/step - loss: 40.3536\n",
      "Epoch 42/78\n",
      "4/4 [==============================] - 0s 2ms/step - loss: 39.3828\n",
      "Epoch 43/78\n",
      "4/4 [==============================] - 0s 3ms/step - loss: 38.7042\n",
      "Epoch 44/78\n",
      "4/4 [==============================] - 0s 3ms/step - loss: 37.8462\n",
      "Epoch 45/78\n",
      "4/4 [==============================] - 0s 2ms/step - loss: 37.1347\n",
      "Epoch 46/78\n",
      "4/4 [==============================] - 0s 3ms/step - loss: 36.5271\n",
      "Epoch 47/78\n",
      "4/4 [==============================] - 0s 2ms/step - loss: 35.8440\n",
      "Epoch 48/78\n",
      "4/4 [==============================] - 0s 2ms/step - loss: 35.1025\n",
      "Epoch 49/78\n",
      "4/4 [==============================] - 0s 2ms/step - loss: 34.7179\n",
      "Epoch 50/78\n",
      "4/4 [==============================] - 0s 1ms/step - loss: 33.8835\n",
      "Epoch 51/78\n",
      "4/4 [==============================] - 0s 2ms/step - loss: 33.4063\n",
      "Epoch 52/78\n",
      "4/4 [==============================] - 0s 2ms/step - loss: 32.7396\n",
      "Epoch 53/78\n",
      "4/4 [==============================] - 0s 2ms/step - loss: 32.1717\n",
      "Epoch 54/78\n",
      "4/4 [==============================] - 0s 1ms/step - loss: 31.6053\n",
      "Epoch 55/78\n",
      "4/4 [==============================] - 0s 2ms/step - loss: 31.1842\n",
      "Epoch 56/78\n",
      "4/4 [==============================] - 0s 2ms/step - loss: 30.5763\n",
      "Epoch 57/78\n",
      "4/4 [==============================] - 0s 1ms/step - loss: 30.0812\n",
      "Epoch 58/78\n",
      "4/4 [==============================] - 0s 2ms/step - loss: 29.7716\n",
      "Epoch 59/78\n",
      "4/4 [==============================] - 0s 2ms/step - loss: 29.2768\n",
      "Epoch 60/78\n",
      "4/4 [==============================] - 0s 2ms/step - loss: 28.8374\n",
      "Epoch 61/78\n",
      "4/4 [==============================] - 0s 1ms/step - loss: 28.3682\n",
      "Epoch 62/78\n",
      "4/4 [==============================] - 0s 1ms/step - loss: 27.9151\n",
      "Epoch 63/78\n",
      "4/4 [==============================] - 0s 1ms/step - loss: 27.3398\n",
      "Epoch 64/78\n",
      "4/4 [==============================] - 0s 2ms/step - loss: 27.0505\n",
      "Epoch 65/78\n",
      "4/4 [==============================] - 0s 1ms/step - loss: 26.6327\n",
      "Epoch 66/78\n",
      "4/4 [==============================] - 0s 1ms/step - loss: 26.3643\n",
      "Epoch 67/78\n",
      "4/4 [==============================] - 0s 1ms/step - loss: 25.9766\n",
      "Epoch 68/78\n",
      "4/4 [==============================] - 0s 1ms/step - loss: 25.6345\n",
      "Epoch 69/78\n",
      "4/4 [==============================] - 0s 2ms/step - loss: 25.2088\n",
      "Epoch 70/78\n",
      "4/4 [==============================] - 0s 1ms/step - loss: 24.9514\n",
      "Epoch 71/78\n",
      "4/4 [==============================] - 0s 1ms/step - loss: 24.4895\n",
      "Epoch 72/78\n",
      "4/4 [==============================] - 0s 1ms/step - loss: 24.2515\n",
      "Epoch 73/78\n",
      "4/4 [==============================] - 0s 2ms/step - loss: 23.9836\n",
      "Epoch 74/78\n",
      "4/4 [==============================] - 0s 1ms/step - loss: 23.7020\n",
      "Epoch 75/78\n",
      "4/4 [==============================] - 0s 1ms/step - loss: 23.4081\n",
      "Epoch 76/78\n",
      "4/4 [==============================] - 0s 2ms/step - loss: 23.1633\n",
      "Epoch 77/78\n",
      "4/4 [==============================] - 0s 2ms/step - loss: 22.8065\n",
      "Epoch 78/78\n",
      "4/4 [==============================] - 0s 1ms/step - loss: 22.5177\n"
     ]
    },
    {
     "data": {
      "text/plain": [
       "<keras.src.callbacks.History at 0x1c1e6332410>"
      ]
     },
     "execution_count": 12,
     "metadata": {},
     "output_type": "execute_result"
    }
   ],
   "source": [
    " model.fit(df.iloc[:,0:-1].values,df['lpa'].values,epochs=78,verbose=1,batch_size=1)"
   ]
  },
  {
   "cell_type": "code",
   "execution_count": null,
   "id": "d74934db",
   "metadata": {},
   "outputs": [],
   "source": []
  }
 ],
 "metadata": {
  "kernelspec": {
   "display_name": "Python 3 (ipykernel)",
   "language": "python",
   "name": "python3"
  },
  "language_info": {
   "codemirror_mode": {
    "name": "ipython",
    "version": 3
   },
   "file_extension": ".py",
   "mimetype": "text/x-python",
   "name": "python",
   "nbconvert_exporter": "python",
   "pygments_lexer": "ipython3",
   "version": "3.11.4"
  }
 },
 "nbformat": 4,
 "nbformat_minor": 5
}
